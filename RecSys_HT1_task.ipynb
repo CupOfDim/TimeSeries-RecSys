{
 "cells": [
  {
   "cell_type": "markdown",
   "id": "6d04d962",
   "metadata": {
    "id": "6d04d962"
   },
   "source": [
    "# Домашнее задание: рекомендательные системы - 1\n",
    "\n",
    "В этом домашнем задании будем работать с данными о пользователях и оценках, которые они поставили различным фильмам.\n",
    "\n",
    "На основе этих данных будем рекомендовать пользователям к просмотру новые для них фильмы."
   ]
  },
  {
   "cell_type": "code",
   "execution_count": 1,
   "id": "4bb04657",
   "metadata": {
    "id": "4bb04657"
   },
   "outputs": [],
   "source": [
    "import warnings\n",
    "warnings.filterwarnings('ignore')\n",
    "\n",
    "import numpy as np\n",
    "import matplotlib.pyplot as plt\n",
    "import pandas as pd\n",
    "from sklearn.model_selection import train_test_split\n",
    "from sklearn.preprocessing import LabelEncoder\n",
    "from typing import List, Dict\n",
    "from tqdm import tqdm, tqdm_notebook"
   ]
  },
  {
   "cell_type": "markdown",
   "id": "TFlqxaitZmR7",
   "metadata": {
    "id": "TFlqxaitZmR7"
   },
   "source": [
    "## Загрузка и обработка данных\n",
    "\n",
    "Загрузим данные."
   ]
  },
  {
   "cell_type": "code",
   "execution_count": 2,
   "id": "85ebc33a",
   "metadata": {
    "id": "85ebc33a"
   },
   "outputs": [],
   "source": [
    "ratings = pd.read_csv('https://raw.githubusercontent.com/aiedu-courses/stepik_applied_tasks/main/datasets/movies_ratings.csv')"
   ]
  },
  {
   "cell_type": "code",
   "execution_count": 3,
   "id": "3a84081b",
   "metadata": {},
   "outputs": [
    {
     "data": {
      "text/html": [
       "<div>\n",
       "<style scoped>\n",
       "    .dataframe tbody tr th:only-of-type {\n",
       "        vertical-align: middle;\n",
       "    }\n",
       "\n",
       "    .dataframe tbody tr th {\n",
       "        vertical-align: top;\n",
       "    }\n",
       "\n",
       "    .dataframe thead th {\n",
       "        text-align: right;\n",
       "    }\n",
       "</style>\n",
       "<table border=\"1\" class=\"dataframe\">\n",
       "  <thead>\n",
       "    <tr style=\"text-align: right;\">\n",
       "      <th></th>\n",
       "      <th>userId</th>\n",
       "      <th>movieId</th>\n",
       "      <th>rating</th>\n",
       "      <th>timestamp</th>\n",
       "      <th>title</th>\n",
       "    </tr>\n",
       "  </thead>\n",
       "  <tbody>\n",
       "    <tr>\n",
       "      <th>0</th>\n",
       "      <td>1</td>\n",
       "      <td>31</td>\n",
       "      <td>2.5</td>\n",
       "      <td>1260759144</td>\n",
       "      <td>Dangerous Minds</td>\n",
       "    </tr>\n",
       "    <tr>\n",
       "      <th>1</th>\n",
       "      <td>7</td>\n",
       "      <td>31</td>\n",
       "      <td>3.0</td>\n",
       "      <td>851868750</td>\n",
       "      <td>Dangerous Minds</td>\n",
       "    </tr>\n",
       "    <tr>\n",
       "      <th>2</th>\n",
       "      <td>31</td>\n",
       "      <td>31</td>\n",
       "      <td>4.0</td>\n",
       "      <td>1273541953</td>\n",
       "      <td>Dangerous Minds</td>\n",
       "    </tr>\n",
       "    <tr>\n",
       "      <th>3</th>\n",
       "      <td>32</td>\n",
       "      <td>31</td>\n",
       "      <td>4.0</td>\n",
       "      <td>834828440</td>\n",
       "      <td>Dangerous Minds</td>\n",
       "    </tr>\n",
       "    <tr>\n",
       "      <th>4</th>\n",
       "      <td>36</td>\n",
       "      <td>31</td>\n",
       "      <td>3.0</td>\n",
       "      <td>847057202</td>\n",
       "      <td>Dangerous Minds</td>\n",
       "    </tr>\n",
       "  </tbody>\n",
       "</table>\n",
       "</div>"
      ],
      "text/plain": [
       "   userId  movieId  rating   timestamp            title\n",
       "0       1       31     2.5  1260759144  Dangerous Minds\n",
       "1       7       31     3.0   851868750  Dangerous Minds\n",
       "2      31       31     4.0  1273541953  Dangerous Minds\n",
       "3      32       31     4.0   834828440  Dangerous Minds\n",
       "4      36       31     3.0   847057202  Dangerous Minds"
      ]
     },
     "execution_count": 3,
     "metadata": {},
     "output_type": "execute_result"
    }
   ],
   "source": [
    "ratings.head()"
   ]
  },
  {
   "cell_type": "code",
   "execution_count": 4,
   "id": "35528fc3",
   "metadata": {
    "id": "35528fc3"
   },
   "outputs": [
    {
     "data": {
      "text/plain": [
       "(671, 9025)"
      ]
     },
     "execution_count": 4,
     "metadata": {},
     "output_type": "execute_result"
    }
   ],
   "source": [
    "user_encoder = LabelEncoder()\n",
    "item_encoder = LabelEncoder()\n",
    "\n",
    "ratings['userId'] = user_encoder.fit_transform(ratings['userId'])\n",
    "ratings['movieId'] = item_encoder.fit_transform(ratings['movieId'])\n",
    "\n",
    "num_users, num_movies = ratings.userId.nunique(), ratings.movieId.nunique()\n",
    "num_users, num_movies"
   ]
  },
  {
   "cell_type": "markdown",
   "id": "8ad16895",
   "metadata": {
    "id": "8ad16895"
   },
   "source": [
    "Поделим выборку на train и test так, чтобы у каждого пользователя последние 10 фильмов оказались в тесте для подсчета метрики качества рекомендаций k=10.  "
   ]
  },
  {
   "cell_type": "code",
   "execution_count": 5,
   "id": "de452ea7",
   "metadata": {},
   "outputs": [
    {
     "data": {
      "text/plain": [
       "<pandas.core.groupby.generic.DataFrameGroupBy object at 0x00000161F0291E40>"
      ]
     },
     "execution_count": 5,
     "metadata": {},
     "output_type": "execute_result"
    }
   ],
   "source": [
    "ratings.groupby('userId')"
   ]
  },
  {
   "cell_type": "code",
   "execution_count": 6,
   "id": "2b735dc3",
   "metadata": {
    "id": "2b735dc3"
   },
   "outputs": [
    {
     "name": "stdout",
     "output_type": "stream",
     "text": [
      "(93140, 5) (6710, 5)\n"
     ]
    }
   ],
   "source": [
    "train, test = [], []\n",
    "num_test_samples = 10\n",
    "\n",
    "for user, data in ratings.groupby('userId'):\n",
    "    train += [data[:-num_test_samples]]\n",
    "    test += [data[-num_test_samples:]]\n",
    "\n",
    "train = pd.concat(train)\n",
    "test = pd.concat(test)\n",
    "print(train.shape, test.shape)"
   ]
  },
  {
   "cell_type": "code",
   "execution_count": 7,
   "id": "QpokgmFTRe4e",
   "metadata": {
    "id": "QpokgmFTRe4e"
   },
   "outputs": [
    {
     "data": {
      "text/html": [
       "<div>\n",
       "<style scoped>\n",
       "    .dataframe tbody tr th:only-of-type {\n",
       "        vertical-align: middle;\n",
       "    }\n",
       "\n",
       "    .dataframe tbody tr th {\n",
       "        vertical-align: top;\n",
       "    }\n",
       "\n",
       "    .dataframe thead th {\n",
       "        text-align: right;\n",
       "    }\n",
       "</style>\n",
       "<table border=\"1\" class=\"dataframe\">\n",
       "  <thead>\n",
       "    <tr style=\"text-align: right;\">\n",
       "      <th></th>\n",
       "      <th>userId</th>\n",
       "      <th>movieId</th>\n",
       "      <th>rating</th>\n",
       "      <th>timestamp</th>\n",
       "      <th>title</th>\n",
       "    </tr>\n",
       "  </thead>\n",
       "  <tbody>\n",
       "    <tr>\n",
       "      <th>0</th>\n",
       "      <td>0</td>\n",
       "      <td>30</td>\n",
       "      <td>2.5</td>\n",
       "      <td>1260759144</td>\n",
       "      <td>Dangerous Minds</td>\n",
       "    </tr>\n",
       "    <tr>\n",
       "      <th>42</th>\n",
       "      <td>0</td>\n",
       "      <td>830</td>\n",
       "      <td>3.0</td>\n",
       "      <td>1260759179</td>\n",
       "      <td>Dumbo</td>\n",
       "    </tr>\n",
       "    <tr>\n",
       "      <th>84</th>\n",
       "      <td>0</td>\n",
       "      <td>856</td>\n",
       "      <td>3.0</td>\n",
       "      <td>1260759182</td>\n",
       "      <td>Sleepers</td>\n",
       "    </tr>\n",
       "    <tr>\n",
       "      <th>117</th>\n",
       "      <td>0</td>\n",
       "      <td>903</td>\n",
       "      <td>2.0</td>\n",
       "      <td>1260759185</td>\n",
       "      <td>Escape from New York</td>\n",
       "    </tr>\n",
       "    <tr>\n",
       "      <th>165</th>\n",
       "      <td>0</td>\n",
       "      <td>927</td>\n",
       "      <td>4.0</td>\n",
       "      <td>1260759205</td>\n",
       "      <td>Cinema Paradiso</td>\n",
       "    </tr>\n",
       "  </tbody>\n",
       "</table>\n",
       "</div>"
      ],
      "text/plain": [
       "     userId  movieId  rating   timestamp                 title\n",
       "0         0       30     2.5  1260759144       Dangerous Minds\n",
       "42        0      830     3.0  1260759179                 Dumbo\n",
       "84        0      856     3.0  1260759182              Sleepers\n",
       "117       0      903     2.0  1260759185  Escape from New York\n",
       "165       0      927     4.0  1260759205       Cinema Paradiso"
      ]
     },
     "execution_count": 7,
     "metadata": {},
     "output_type": "execute_result"
    }
   ],
   "source": [
    "train.head()"
   ]
  },
  {
   "cell_type": "markdown",
   "id": "0R5MlAAlWOcS",
   "metadata": {
    "id": "0R5MlAAlWOcS"
   },
   "source": [
    "## Quiz\n",
    "\n",
    "Запишите данные в формате, где строка соответствует пользователю, а столбцы будут истинными метками и предсказаниями в виде списков.\n",
    "\n",
    "Назовите полученную таблицу `interactions`, действуйте по аналогии или воспользуйтесь кодом из урока.\n",
    "\n",
    "В ответ запишите максимальное значение `movieId` из тестовых фильмов для пользователя `userId=2`."
   ]
  },
  {
   "cell_type": "code",
   "execution_count": 18,
   "id": "ivDbeNrHRe7L",
   "metadata": {
    "id": "ivDbeNrHRe7L"
   },
   "outputs": [
    {
     "data": {
      "text/plain": [
       "7681"
      ]
     },
     "execution_count": 18,
     "metadata": {},
     "output_type": "execute_result"
    }
   ],
   "source": [
    "movedIduId2=0\n",
    "for i in test[test['userId']==2]['movieId'].values:\n",
    "    movedIduId2 = max(i, movedIduId2)\n",
    "movedIduId2"
   ]
  },
  {
   "cell_type": "code",
   "execution_count": 24,
   "id": "2de4da69",
   "metadata": {},
   "outputs": [
    {
     "data": {
      "text/html": [
       "<div>\n",
       "<style scoped>\n",
       "    .dataframe tbody tr th:only-of-type {\n",
       "        vertical-align: middle;\n",
       "    }\n",
       "\n",
       "    .dataframe tbody tr th {\n",
       "        vertical-align: top;\n",
       "    }\n",
       "\n",
       "    .dataframe thead th {\n",
       "        text-align: right;\n",
       "    }\n",
       "</style>\n",
       "<table border=\"1\" class=\"dataframe\">\n",
       "  <thead>\n",
       "    <tr style=\"text-align: right;\">\n",
       "      <th></th>\n",
       "      <th>true_train</th>\n",
       "      <th>true_test</th>\n",
       "    </tr>\n",
       "    <tr>\n",
       "      <th>userId</th>\n",
       "      <th></th>\n",
       "      <th></th>\n",
       "    </tr>\n",
       "  </thead>\n",
       "  <tbody>\n",
       "    <tr>\n",
       "      <th>0</th>\n",
       "      <td>[30, 830, 856, 903, 927, 1013, 1037, 1043, 107...</td>\n",
       "      <td>[1107, 1136, 1511, 1661, 1704, 1739, 1811, 195...</td>\n",
       "    </tr>\n",
       "    <tr>\n",
       "      <th>1</th>\n",
       "      <td>[9, 16, 37, 45, 48, 49, 58, 100, 123, 129, 132...</td>\n",
       "      <td>[518, 519, 520, 521, 522, 523, 524, 525, 543, ...</td>\n",
       "    </tr>\n",
       "    <tr>\n",
       "      <th>2</th>\n",
       "      <td>[100, 266, 321, 341, 472, 521, 524, 525, 56, 2...</td>\n",
       "      <td>[5008, 5107, 5456, 5461, 5874, 6345, 6518, 656...</td>\n",
       "    </tr>\n",
       "    <tr>\n",
       "      <th>3</th>\n",
       "      <td>[1107, 1511, 1661, 1739, 2375, 9, 132, 163, 26...</td>\n",
       "      <td>[2491, 2495, 2543, 2575, 2576, 2602, 2606, 261...</td>\n",
       "    </tr>\n",
       "    <tr>\n",
       "      <th>4</th>\n",
       "      <td>[1811, 37, 129, 321, 328, 331, 341, 447, 519, ...</td>\n",
       "      <td>[5955, 5957, 6098, 6118, 6144, 6172, 6260, 627...</td>\n",
       "    </tr>\n",
       "  </tbody>\n",
       "</table>\n",
       "</div>"
      ],
      "text/plain": [
       "                                               true_train  \\\n",
       "userId                                                      \n",
       "0       [30, 830, 856, 903, 927, 1013, 1037, 1043, 107...   \n",
       "1       [9, 16, 37, 45, 48, 49, 58, 100, 123, 129, 132...   \n",
       "2       [100, 266, 321, 341, 472, 521, 524, 525, 56, 2...   \n",
       "3       [1107, 1511, 1661, 1739, 2375, 9, 132, 163, 26...   \n",
       "4       [1811, 37, 129, 321, 328, 331, 341, 447, 519, ...   \n",
       "\n",
       "                                                true_test  \n",
       "userId                                                     \n",
       "0       [1107, 1136, 1511, 1661, 1704, 1739, 1811, 195...  \n",
       "1       [518, 519, 520, 521, 522, 523, 524, 525, 543, ...  \n",
       "2       [5008, 5107, 5456, 5461, 5874, 6345, 6518, 656...  \n",
       "3       [2491, 2495, 2543, 2575, 2576, 2602, 2606, 261...  \n",
       "4       [5955, 5957, 6098, 6118, 6144, 6172, 6260, 627...  "
      ]
     },
     "execution_count": 24,
     "metadata": {},
     "output_type": "execute_result"
    }
   ],
   "source": [
    "interactions = (\n",
    "    train\n",
    "    .groupby('userId')['movieId'].agg(lambda x: list(x))\n",
    "    .reset_index()\n",
    "    .rename(columns={'movieId': 'true_train'})\n",
    "    .set_index('userId')\n",
    ")\n",
    "\n",
    "interactions['true_test'] = (\n",
    "    test\n",
    "    .groupby('userId')['movieId'].agg(lambda x: list(x))\n",
    ")\n",
    "\n",
    "interactions.loc[pd.isnull(interactions.true_test), 'true_test'] = [\n",
    "    [''] for x in range(len(interactions.loc[pd.isnull(interactions.true_test), 'true_test']))]\n",
    "\n",
    "interactions.head(5)"
   ]
  },
  {
   "cell_type": "markdown",
   "id": "nXMXKpgjWk6m",
   "metadata": {
    "id": "nXMXKpgjWk6m"
   },
   "source": [
    "Для оценки качества модели будем использовать метрику  precision@10 для каждого пользователя (доля угаданных рекомендаций). Усредним ее по всем пользователям (полученная метрика называется MAP@10)."
   ]
  },
  {
   "cell_type": "code",
   "execution_count": 19,
   "id": "Jw_UkYyIRe9h",
   "metadata": {
    "id": "Jw_UkYyIRe9h"
   },
   "outputs": [],
   "source": [
    "def calc_precision(column):\n",
    "    return (\n",
    "        interactions\n",
    "        .apply(\n",
    "            lambda row:\n",
    "            len(set(row['true_test']).intersection(\n",
    "                set(row[column]))) /\n",
    "            min(len(row['true_test']) + 0.001, 10.0),\n",
    "            axis=1)).mean()"
   ]
  },
  {
   "cell_type": "markdown",
   "id": "IFTuPGaeZwTz",
   "metadata": {
    "id": "IFTuPGaeZwTz"
   },
   "source": [
    "## Коллаборативная фильтрация"
   ]
  },
  {
   "cell_type": "markdown",
   "id": "ODiZAQOGYiJ4",
   "metadata": {
    "id": "ODiZAQOGYiJ4"
   },
   "source": [
    "## Quiz\n",
    "\n",
    "Составьте матрицу \"оценок\" пользователей - `ratings`. Нули будут обозначать отсутствие взаимодействия.\n",
    "\n",
    "Действуйте по аналогии или воспользуйтесь кодом из урока.\n",
    "\n",
    "В ответ запишите число столбцов в матрице `ratings`."
   ]
  },
  {
   "cell_type": "code",
   "execution_count": 36,
   "id": "SKG3zanpSOmb",
   "metadata": {
    "id": "SKG3zanpSOmb"
   },
   "outputs": [
    {
     "data": {
      "text/html": [
       "<div>\n",
       "<style scoped>\n",
       "    .dataframe tbody tr th:only-of-type {\n",
       "        vertical-align: middle;\n",
       "    }\n",
       "\n",
       "    .dataframe tbody tr th {\n",
       "        vertical-align: top;\n",
       "    }\n",
       "\n",
       "    .dataframe thead th {\n",
       "        text-align: right;\n",
       "    }\n",
       "</style>\n",
       "<table border=\"1\" class=\"dataframe\">\n",
       "  <thead>\n",
       "    <tr style=\"text-align: right;\">\n",
       "      <th>movieId</th>\n",
       "      <th>0</th>\n",
       "      <th>1</th>\n",
       "      <th>2</th>\n",
       "      <th>3</th>\n",
       "      <th>4</th>\n",
       "      <th>5</th>\n",
       "      <th>6</th>\n",
       "      <th>7</th>\n",
       "      <th>8</th>\n",
       "      <th>9</th>\n",
       "      <th>...</th>\n",
       "      <th>8990</th>\n",
       "      <th>8992</th>\n",
       "      <th>8993</th>\n",
       "      <th>8995</th>\n",
       "      <th>8996</th>\n",
       "      <th>8998</th>\n",
       "      <th>9000</th>\n",
       "      <th>9004</th>\n",
       "      <th>9008</th>\n",
       "      <th>9010</th>\n",
       "    </tr>\n",
       "    <tr>\n",
       "      <th>userId</th>\n",
       "      <th></th>\n",
       "      <th></th>\n",
       "      <th></th>\n",
       "      <th></th>\n",
       "      <th></th>\n",
       "      <th></th>\n",
       "      <th></th>\n",
       "      <th></th>\n",
       "      <th></th>\n",
       "      <th></th>\n",
       "      <th></th>\n",
       "      <th></th>\n",
       "      <th></th>\n",
       "      <th></th>\n",
       "      <th></th>\n",
       "      <th></th>\n",
       "      <th></th>\n",
       "      <th></th>\n",
       "      <th></th>\n",
       "      <th></th>\n",
       "      <th></th>\n",
       "    </tr>\n",
       "  </thead>\n",
       "  <tbody>\n",
       "    <tr>\n",
       "      <th>0</th>\n",
       "      <td>0.0</td>\n",
       "      <td>0.0</td>\n",
       "      <td>0.0</td>\n",
       "      <td>0.0</td>\n",
       "      <td>0.0</td>\n",
       "      <td>0.0</td>\n",
       "      <td>0.0</td>\n",
       "      <td>0.0</td>\n",
       "      <td>0.0</td>\n",
       "      <td>0.0</td>\n",
       "      <td>...</td>\n",
       "      <td>0.0</td>\n",
       "      <td>0.0</td>\n",
       "      <td>0.0</td>\n",
       "      <td>0.0</td>\n",
       "      <td>0.0</td>\n",
       "      <td>0.0</td>\n",
       "      <td>0.0</td>\n",
       "      <td>0.0</td>\n",
       "      <td>0.0</td>\n",
       "      <td>0.0</td>\n",
       "    </tr>\n",
       "    <tr>\n",
       "      <th>1</th>\n",
       "      <td>0.0</td>\n",
       "      <td>0.0</td>\n",
       "      <td>0.0</td>\n",
       "      <td>0.0</td>\n",
       "      <td>0.0</td>\n",
       "      <td>0.0</td>\n",
       "      <td>0.0</td>\n",
       "      <td>0.0</td>\n",
       "      <td>0.0</td>\n",
       "      <td>4.0</td>\n",
       "      <td>...</td>\n",
       "      <td>0.0</td>\n",
       "      <td>0.0</td>\n",
       "      <td>0.0</td>\n",
       "      <td>0.0</td>\n",
       "      <td>0.0</td>\n",
       "      <td>0.0</td>\n",
       "      <td>0.0</td>\n",
       "      <td>0.0</td>\n",
       "      <td>0.0</td>\n",
       "      <td>0.0</td>\n",
       "    </tr>\n",
       "    <tr>\n",
       "      <th>2</th>\n",
       "      <td>0.0</td>\n",
       "      <td>0.0</td>\n",
       "      <td>0.0</td>\n",
       "      <td>0.0</td>\n",
       "      <td>0.0</td>\n",
       "      <td>0.0</td>\n",
       "      <td>0.0</td>\n",
       "      <td>0.0</td>\n",
       "      <td>0.0</td>\n",
       "      <td>0.0</td>\n",
       "      <td>...</td>\n",
       "      <td>0.0</td>\n",
       "      <td>0.0</td>\n",
       "      <td>0.0</td>\n",
       "      <td>0.0</td>\n",
       "      <td>0.0</td>\n",
       "      <td>0.0</td>\n",
       "      <td>0.0</td>\n",
       "      <td>0.0</td>\n",
       "      <td>0.0</td>\n",
       "      <td>0.0</td>\n",
       "    </tr>\n",
       "    <tr>\n",
       "      <th>3</th>\n",
       "      <td>0.0</td>\n",
       "      <td>0.0</td>\n",
       "      <td>0.0</td>\n",
       "      <td>0.0</td>\n",
       "      <td>0.0</td>\n",
       "      <td>0.0</td>\n",
       "      <td>0.0</td>\n",
       "      <td>0.0</td>\n",
       "      <td>0.0</td>\n",
       "      <td>4.0</td>\n",
       "      <td>...</td>\n",
       "      <td>0.0</td>\n",
       "      <td>0.0</td>\n",
       "      <td>0.0</td>\n",
       "      <td>0.0</td>\n",
       "      <td>0.0</td>\n",
       "      <td>0.0</td>\n",
       "      <td>0.0</td>\n",
       "      <td>0.0</td>\n",
       "      <td>0.0</td>\n",
       "      <td>0.0</td>\n",
       "    </tr>\n",
       "    <tr>\n",
       "      <th>4</th>\n",
       "      <td>0.0</td>\n",
       "      <td>0.0</td>\n",
       "      <td>4.0</td>\n",
       "      <td>0.0</td>\n",
       "      <td>0.0</td>\n",
       "      <td>0.0</td>\n",
       "      <td>0.0</td>\n",
       "      <td>0.0</td>\n",
       "      <td>0.0</td>\n",
       "      <td>0.0</td>\n",
       "      <td>...</td>\n",
       "      <td>0.0</td>\n",
       "      <td>0.0</td>\n",
       "      <td>0.0</td>\n",
       "      <td>0.0</td>\n",
       "      <td>0.0</td>\n",
       "      <td>0.0</td>\n",
       "      <td>0.0</td>\n",
       "      <td>0.0</td>\n",
       "      <td>0.0</td>\n",
       "      <td>0.0</td>\n",
       "    </tr>\n",
       "    <tr>\n",
       "      <th>...</th>\n",
       "      <td>...</td>\n",
       "      <td>...</td>\n",
       "      <td>...</td>\n",
       "      <td>...</td>\n",
       "      <td>...</td>\n",
       "      <td>...</td>\n",
       "      <td>...</td>\n",
       "      <td>...</td>\n",
       "      <td>...</td>\n",
       "      <td>...</td>\n",
       "      <td>...</td>\n",
       "      <td>...</td>\n",
       "      <td>...</td>\n",
       "      <td>...</td>\n",
       "      <td>...</td>\n",
       "      <td>...</td>\n",
       "      <td>...</td>\n",
       "      <td>...</td>\n",
       "      <td>...</td>\n",
       "      <td>...</td>\n",
       "      <td>...</td>\n",
       "    </tr>\n",
       "    <tr>\n",
       "      <th>666</th>\n",
       "      <td>0.0</td>\n",
       "      <td>0.0</td>\n",
       "      <td>0.0</td>\n",
       "      <td>0.0</td>\n",
       "      <td>0.0</td>\n",
       "      <td>4.0</td>\n",
       "      <td>0.0</td>\n",
       "      <td>0.0</td>\n",
       "      <td>0.0</td>\n",
       "      <td>0.0</td>\n",
       "      <td>...</td>\n",
       "      <td>0.0</td>\n",
       "      <td>0.0</td>\n",
       "      <td>0.0</td>\n",
       "      <td>0.0</td>\n",
       "      <td>0.0</td>\n",
       "      <td>0.0</td>\n",
       "      <td>0.0</td>\n",
       "      <td>0.0</td>\n",
       "      <td>0.0</td>\n",
       "      <td>0.0</td>\n",
       "    </tr>\n",
       "    <tr>\n",
       "      <th>667</th>\n",
       "      <td>0.0</td>\n",
       "      <td>0.0</td>\n",
       "      <td>0.0</td>\n",
       "      <td>0.0</td>\n",
       "      <td>0.0</td>\n",
       "      <td>0.0</td>\n",
       "      <td>0.0</td>\n",
       "      <td>0.0</td>\n",
       "      <td>0.0</td>\n",
       "      <td>0.0</td>\n",
       "      <td>...</td>\n",
       "      <td>0.0</td>\n",
       "      <td>0.0</td>\n",
       "      <td>0.0</td>\n",
       "      <td>0.0</td>\n",
       "      <td>0.0</td>\n",
       "      <td>0.0</td>\n",
       "      <td>0.0</td>\n",
       "      <td>0.0</td>\n",
       "      <td>0.0</td>\n",
       "      <td>0.0</td>\n",
       "    </tr>\n",
       "    <tr>\n",
       "      <th>668</th>\n",
       "      <td>0.0</td>\n",
       "      <td>0.0</td>\n",
       "      <td>0.0</td>\n",
       "      <td>0.0</td>\n",
       "      <td>0.0</td>\n",
       "      <td>0.0</td>\n",
       "      <td>0.0</td>\n",
       "      <td>0.0</td>\n",
       "      <td>0.0</td>\n",
       "      <td>0.0</td>\n",
       "      <td>...</td>\n",
       "      <td>0.0</td>\n",
       "      <td>0.0</td>\n",
       "      <td>0.0</td>\n",
       "      <td>0.0</td>\n",
       "      <td>0.0</td>\n",
       "      <td>0.0</td>\n",
       "      <td>0.0</td>\n",
       "      <td>0.0</td>\n",
       "      <td>0.0</td>\n",
       "      <td>0.0</td>\n",
       "    </tr>\n",
       "    <tr>\n",
       "      <th>669</th>\n",
       "      <td>4.0</td>\n",
       "      <td>0.0</td>\n",
       "      <td>0.0</td>\n",
       "      <td>0.0</td>\n",
       "      <td>0.0</td>\n",
       "      <td>0.0</td>\n",
       "      <td>0.0</td>\n",
       "      <td>0.0</td>\n",
       "      <td>0.0</td>\n",
       "      <td>0.0</td>\n",
       "      <td>...</td>\n",
       "      <td>0.0</td>\n",
       "      <td>0.0</td>\n",
       "      <td>0.0</td>\n",
       "      <td>0.0</td>\n",
       "      <td>0.0</td>\n",
       "      <td>0.0</td>\n",
       "      <td>0.0</td>\n",
       "      <td>0.0</td>\n",
       "      <td>0.0</td>\n",
       "      <td>0.0</td>\n",
       "    </tr>\n",
       "    <tr>\n",
       "      <th>670</th>\n",
       "      <td>5.0</td>\n",
       "      <td>0.0</td>\n",
       "      <td>0.0</td>\n",
       "      <td>0.0</td>\n",
       "      <td>0.0</td>\n",
       "      <td>0.0</td>\n",
       "      <td>0.0</td>\n",
       "      <td>0.0</td>\n",
       "      <td>0.0</td>\n",
       "      <td>0.0</td>\n",
       "      <td>...</td>\n",
       "      <td>0.0</td>\n",
       "      <td>0.0</td>\n",
       "      <td>0.0</td>\n",
       "      <td>0.0</td>\n",
       "      <td>0.0</td>\n",
       "      <td>0.0</td>\n",
       "      <td>0.0</td>\n",
       "      <td>0.0</td>\n",
       "      <td>0.0</td>\n",
       "      <td>0.0</td>\n",
       "    </tr>\n",
       "  </tbody>\n",
       "</table>\n",
       "<p>671 rows × 8044 columns</p>\n",
       "</div>"
      ],
      "text/plain": [
       "movieId  0     1     2     3     4     5     6     7     8     9     ...  \\\n",
       "userId                                                               ...   \n",
       "0         0.0   0.0   0.0   0.0   0.0   0.0   0.0   0.0   0.0   0.0  ...   \n",
       "1         0.0   0.0   0.0   0.0   0.0   0.0   0.0   0.0   0.0   4.0  ...   \n",
       "2         0.0   0.0   0.0   0.0   0.0   0.0   0.0   0.0   0.0   0.0  ...   \n",
       "3         0.0   0.0   0.0   0.0   0.0   0.0   0.0   0.0   0.0   4.0  ...   \n",
       "4         0.0   0.0   4.0   0.0   0.0   0.0   0.0   0.0   0.0   0.0  ...   \n",
       "...       ...   ...   ...   ...   ...   ...   ...   ...   ...   ...  ...   \n",
       "666       0.0   0.0   0.0   0.0   0.0   4.0   0.0   0.0   0.0   0.0  ...   \n",
       "667       0.0   0.0   0.0   0.0   0.0   0.0   0.0   0.0   0.0   0.0  ...   \n",
       "668       0.0   0.0   0.0   0.0   0.0   0.0   0.0   0.0   0.0   0.0  ...   \n",
       "669       4.0   0.0   0.0   0.0   0.0   0.0   0.0   0.0   0.0   0.0  ...   \n",
       "670       5.0   0.0   0.0   0.0   0.0   0.0   0.0   0.0   0.0   0.0  ...   \n",
       "\n",
       "movieId  8990  8992  8993  8995  8996  8998  9000  9004  9008  9010  \n",
       "userId                                                               \n",
       "0         0.0   0.0   0.0   0.0   0.0   0.0   0.0   0.0   0.0   0.0  \n",
       "1         0.0   0.0   0.0   0.0   0.0   0.0   0.0   0.0   0.0   0.0  \n",
       "2         0.0   0.0   0.0   0.0   0.0   0.0   0.0   0.0   0.0   0.0  \n",
       "3         0.0   0.0   0.0   0.0   0.0   0.0   0.0   0.0   0.0   0.0  \n",
       "4         0.0   0.0   0.0   0.0   0.0   0.0   0.0   0.0   0.0   0.0  \n",
       "...       ...   ...   ...   ...   ...   ...   ...   ...   ...   ...  \n",
       "666       0.0   0.0   0.0   0.0   0.0   0.0   0.0   0.0   0.0   0.0  \n",
       "667       0.0   0.0   0.0   0.0   0.0   0.0   0.0   0.0   0.0   0.0  \n",
       "668       0.0   0.0   0.0   0.0   0.0   0.0   0.0   0.0   0.0   0.0  \n",
       "669       0.0   0.0   0.0   0.0   0.0   0.0   0.0   0.0   0.0   0.0  \n",
       "670       0.0   0.0   0.0   0.0   0.0   0.0   0.0   0.0   0.0   0.0  \n",
       "\n",
       "[671 rows x 8044 columns]"
      ]
     },
     "execution_count": 36,
     "metadata": {},
     "output_type": "execute_result"
    }
   ],
   "source": [
    "ratings = pd.pivot_table(\n",
    "    train,\n",
    "    values='rating',\n",
    "    index='userId',\n",
    "    columns='movieId').fillna(0)\n",
    "ratings"
   ]
  },
  {
   "cell_type": "code",
   "execution_count": 32,
   "id": "bq82LkpYSOpU",
   "metadata": {
    "id": "bq82LkpYSOpU"
   },
   "outputs": [],
   "source": [
    "ratings_m = ratings.values"
   ]
  },
  {
   "cell_type": "markdown",
   "id": "lolkVRhAYzDQ",
   "metadata": {
    "id": "lolkVRhAYzDQ"
   },
   "source": [
    "## Quiz\n",
    "\n",
    "Посчитайте схожести пользователей (запишите их в np.array `similarity_users`) с помощью корреляции Пирсона. Для каждой пары учитывайте только ненулевые значения.\n",
    "\n",
    "Действуйте по аналогии или воспользуйтесь кодом из урока.\n",
    "\n",
    "В ответ запишите значение `similarity_users[0,6]` без округления."
   ]
  },
  {
   "cell_type": "code",
   "execution_count": 33,
   "id": "OUM6SCgYSOsS",
   "metadata": {
    "id": "OUM6SCgYSOsS"
   },
   "outputs": [
    {
     "data": {
      "application/vnd.jupyter.widget-view+json": {
       "model_id": "3678ee6b8467402a92a276e694f74fbd",
       "version_major": 2,
       "version_minor": 0
      },
      "text/plain": [
       "  0%|          | 0/670 [00:00<?, ?it/s]"
      ]
     },
     "metadata": {},
     "output_type": "display_data"
    }
   ],
   "source": [
    "similarity_users = np.zeros((len(ratings_m), len(ratings_m)))\n",
    "\n",
    "for i in tqdm_notebook(range(len(ratings_m)-1)):\n",
    "    for j in range(i+1, len(ratings_m)):\n",
    "\n",
    "        # nonzero elements of two users\n",
    "        mask_uv = (ratings_m[i] != 0) & (ratings_m[j] != 0)\n",
    "\n",
    "        # continue if no intersection\n",
    "        if np.sum(mask_uv) == 0:\n",
    "            continue\n",
    "\n",
    "        # get nonzero elements\n",
    "        ratings_v = ratings_m[i, mask_uv]\n",
    "        ratings_u = ratings_m[j, mask_uv]\n",
    "\n",
    "        # for nonzero std\n",
    "        if len(np.unique(ratings_v)) < 2 or len(np.unique(ratings_u)) < 2:\n",
    "            continue\n",
    "        similarity_users[i,j] = np.corrcoef(ratings_v, ratings_u)[0, 1]\n",
    "        similarity_users[j,i] = similarity_users[i,j]"
   ]
  },
  {
   "cell_type": "code",
   "execution_count": 34,
   "id": "8fd69e61",
   "metadata": {},
   "outputs": [
    {
     "data": {
      "text/plain": [
       "-0.4999999999999999"
      ]
     },
     "execution_count": 34,
     "metadata": {},
     "output_type": "execute_result"
    }
   ],
   "source": [
    "similarity_users[0,6]"
   ]
  },
  {
   "cell_type": "markdown",
   "id": "FoVGbJEVY7kY",
   "metadata": {
    "id": "FoVGbJEVY7kY"
   },
   "source": [
    "## Quiz\n",
    "\n",
    "Сделайте user-based прогнозы по тому же правилу, что и в уроке:\n",
    "\n",
    "Для каждого пользователя:\n",
    "\n",
    "1. Найдём пользователей с похожестью больше $\\alpha$ на нашего пользователя.\n",
    "2. Посчитаем для каждого фильма долю пользователей (среди выделенных на первом шаге), которые взаимодействовали с этим фильмом.\n",
    "3. Порекомендуем фильмы с наибольшими долями со второго шага (среди тех, которые пользователь ещё не видел).\n",
    "\n",
    "В нашем примере данных не очень много, поэтому возьмём $\\alpha = 0$.\n",
    "\n",
    "Сделайте предсказания и запишите их в столбец\n",
    "`prediction_user_based` таблицы `interactions`."
   ]
  },
  {
   "cell_type": "markdown",
   "id": "GPgDBgFcj5PE",
   "metadata": {
    "id": "GPgDBgFcj5PE"
   },
   "source": [
    "В ответ запишите минимальный предсказанный `movieId` для пользователя `userId=4`."
   ]
  },
  {
   "cell_type": "code",
   "execution_count": 37,
   "id": "HrM7cdFhS5y8",
   "metadata": {
    "id": "HrM7cdFhS5y8"
   },
   "outputs": [
    {
     "data": {
      "application/vnd.jupyter.widget-view+json": {
       "model_id": "dcccbffca99f430ca80b4bf7a25bdfe5",
       "version_major": 2,
       "version_minor": 0
      },
      "text/plain": [
       "  0%|          | 0/671 [00:00<?, ?it/s]"
      ]
     },
     "metadata": {},
     "output_type": "display_data"
    }
   ],
   "source": [
    "prediction_user_based = []\n",
    "\n",
    "for i in tqdm_notebook(range(len(similarity_users))):\n",
    "    users_sim = similarity_users[i] > 0\n",
    "    if len(users_sim) == 0:\n",
    "        prediction_user_based.append([])\n",
    "    else:\n",
    "        tmp_recommend = np.argsort(ratings_m[users_sim].sum(axis=0))[::-1]\n",
    "        tmp_recommend = ratings.columns[tmp_recommend]\n",
    "        recommend = np.array(tmp_recommend)[~np.in1d(tmp_recommend, interactions.iloc[i])][:10]\n",
    "        prediction_user_based.append(list(recommend))\n",
    "\n",
    "interactions['prediction_user_based'] = prediction_user_based"
   ]
  },
  {
   "cell_type": "code",
   "execution_count": 45,
   "id": "65cf5777",
   "metadata": {},
   "outputs": [
    {
     "data": {
      "text/plain": [
       "100"
      ]
     },
     "execution_count": 45,
     "metadata": {},
     "output_type": "execute_result"
    }
   ],
   "source": [
    "\n",
    "# interactions[interactions['userId']==4]['prediction_user_based']\n",
    "min(interactions.iloc[4]['prediction_user_based'])"
   ]
  },
  {
   "cell_type": "markdown",
   "id": "bmUWpDJOZcwJ",
   "metadata": {
    "id": "bmUWpDJOZcwJ"
   },
   "source": [
    "## Quiz\n",
    "\n",
    "Посчитайте значение метрики MAP@10 для user-based подхода.\n",
    "\n",
    "Ответ округлите до тысячных."
   ]
  },
  {
   "cell_type": "code",
   "execution_count": 46,
   "id": "JW7lDORvS53T",
   "metadata": {
    "id": "JW7lDORvS53T"
   },
   "outputs": [
    {
     "data": {
      "text/plain": [
       "0.005365126676602086"
      ]
     },
     "execution_count": 46,
     "metadata": {},
     "output_type": "execute_result"
    }
   ],
   "source": [
    "calc_precision('prediction_user_based')"
   ]
  },
  {
   "cell_type": "markdown",
   "id": "GLEQFHOLZzfx",
   "metadata": {
    "id": "GLEQFHOLZzfx"
   },
   "source": [
    "## SVD-разложение\n",
    "\n",
    "Для выполнения заданий при необходимости заглядывайте в ноутбук из урока."
   ]
  },
  {
   "cell_type": "markdown",
   "id": "du0CNJTJZ4yn",
   "metadata": {
    "id": "du0CNJTJZ4yn"
   },
   "source": [
    "## Quiz\n",
    "\n",
    "Сделайте сингулярное разложение (svd в scipy.linalg), на выходе вы получите три матрицы - `U`,`sigma`,`V`.\n",
    "\n",
    "В ответ запишите число элементов матрицы `U`."
   ]
  },
  {
   "cell_type": "code",
   "execution_count": 48,
   "id": "lVUUWQQkS56h",
   "metadata": {
    "id": "lVUUWQQkS56h"
   },
   "outputs": [],
   "source": [
    "from scipy.linalg import svd"
   ]
  },
  {
   "cell_type": "code",
   "execution_count": 49,
   "id": "vMBaxaO7Twj0",
   "metadata": {
    "id": "vMBaxaO7Twj0"
   },
   "outputs": [
    {
     "data": {
      "text/plain": [
       "(671, 671)"
      ]
     },
     "execution_count": 49,
     "metadata": {},
     "output_type": "execute_result"
    }
   ],
   "source": [
    "U, sigma, V = svd(ratings)"
   ]
  },
  {
   "cell_type": "code",
   "execution_count": 50,
   "id": "62f4775c",
   "metadata": {},
   "outputs": [
    {
     "name": "stdout",
     "output_type": "stream",
     "text": [
      "(671, 8044) (671, 671) (671,) (8044, 8044)\n"
     ]
    }
   ],
   "source": [
    "print(ratings.shape, U.shape, sigma.shape, V.shape)"
   ]
  },
  {
   "cell_type": "code",
   "execution_count": 54,
   "id": "5fa71bdc",
   "metadata": {},
   "outputs": [
    {
     "name": "stdout",
     "output_type": "stream",
     "text": [
      "1.6728207615292027e-22\n"
     ]
    }
   ],
   "source": [
    "Sigma = np.zeros((671, 8044))\n",
    "Sigma[:671, :671] = np.diag(sigma)\n",
    "\n",
    "new_ratings = U.dot(Sigma).dot(V)\n",
    "\n",
    "print(sum(sum((new_ratings - ratings.values) ** 2)))"
   ]
  },
  {
   "cell_type": "markdown",
   "id": "_lMGojO6Z_d4",
   "metadata": {
    "id": "_lMGojO6Z_d4"
   },
   "source": [
    "Значения у матрицы с сингулярными числами отсортированы по убыванию.\n",
    "\n",
    "Оставьте только первые 150 компонент, чтобы получить скрытые представления размерности 150. Для этого необходимо оставить 150 столбцов в матрице U, оставить из sigma только первые 150 значений (и сделать из них диагональную матрицу) и 150 столбцов в матрице V. Перемножим преобразованные матрицы ($\\hat{U}, \\hat{sigma}, \\hat{V^T}$), чтобы получить восстановленную матрицу оценок."
   ]
  },
  {
   "cell_type": "code",
   "execution_count": 55,
   "id": "3b92c27bTwmd",
   "metadata": {
    "id": "3b92c27bTwmd"
   },
   "outputs": [],
   "source": [
    "K = 150\n",
    "\n",
    "sigma[K:] = 0\n",
    "Sigma = np.zeros((671, 8044))\n",
    "Sigma[:671, :671] = np.diag(sigma)"
   ]
  },
  {
   "cell_type": "markdown",
   "id": "gc_lwhciaOr5",
   "metadata": {
    "id": "gc_lwhciaOr5"
   },
   "source": [
    "## Quiz\n",
    "\n",
    "Посчитайте качество аппроксимации матрицы по норме Фробениуса (среднеквадратичную ошибку между всеми элементами соответствующими элементами двух матриц). Сравните его с простым бейзлайном с константным значением, равным среднему значению исходной матрицы. У аппроксимации ошибка должна получиться ниже.\n",
    "\n",
    "Во сколько раз ошибка аппроксимации меньше, чем ошибка бейзлайна? Ответ округлите до целого числа."
   ]
  },
  {
   "cell_type": "code",
   "execution_count": 56,
   "id": "BHLG2vnPTwpX",
   "metadata": {
    "id": "BHLG2vnPTwpX"
   },
   "outputs": [
    {
     "name": "stdout",
     "output_type": "stream",
     "text": [
      "248017.78364373563\n",
      "1255671.6721978304\n",
      "5.062829180029833\n"
     ]
    }
   ],
   "source": [
    "new_ratings = U.dot(Sigma).dot(V)\n",
    "apro = sum(sum((new_ratings - ratings.values) ** 2))\n",
    "baiz = sum(sum((ratings.values.mean() - ratings.values) ** 2))\n",
    "print(apro)\n",
    "print(baiz)\n",
    "print(baiz/apro)"
   ]
  },
  {
   "cell_type": "markdown",
   "id": "PqVZVjq9aaxd",
   "metadata": {
    "id": "PqVZVjq9aaxd"
   },
   "source": [
    "## Quiz\n",
    "\n",
    "Теперь сделайте предсказания по матрице (не забывайте про то, что уже было просмотрено пользователем).\n",
    "\n",
    "Для этого необходимо для каждого пользователя найти предметы с наибольшими оценками в восстановленной матрице.\n",
    "\n",
    "В ответ запишите максимальный предсказанный `movieId` для пользователя `userId=4`."
   ]
  },
  {
   "cell_type": "code",
   "execution_count": 58,
   "id": "Jnt9aPm7TwsM",
   "metadata": {
    "id": "Jnt9aPm7TwsM"
   },
   "outputs": [
    {
     "data": {
      "application/vnd.jupyter.widget-view+json": {
       "model_id": "87d834b9dd8941a68d850fa7cb35580a",
       "version_major": 2,
       "version_minor": 0
      },
      "text/plain": [
       "  0%|          | 0/671 [00:00<?, ?it/s]"
      ]
     },
     "metadata": {},
     "output_type": "display_data"
    }
   ],
   "source": [
    "top_k = 10\n",
    "\n",
    "new_ratings = pd.DataFrame(new_ratings, index=ratings.index, columns=ratings.columns)\n",
    "\n",
    "predictions = []\n",
    "\n",
    "for personId in tqdm_notebook(interactions.index):\n",
    "    prediction = (\n",
    "        new_ratings\n",
    "        .loc[personId]\n",
    "        .sort_values(ascending=False)\n",
    "        .index.values\n",
    "    )\n",
    "\n",
    "    predictions.append(\n",
    "        list(prediction[~np.in1d(\n",
    "            prediction,\n",
    "            interactions.loc[personId, 'true_train'])])[:top_k])\n",
    "\n",
    "interactions['prediction_svd'] = predictions"
   ]
  },
  {
   "cell_type": "code",
   "execution_count": 59,
   "id": "2fee6f00",
   "metadata": {},
   "outputs": [
    {
     "data": {
      "text/plain": [
       "3373"
      ]
     },
     "execution_count": 59,
     "metadata": {},
     "output_type": "execute_result"
    }
   ],
   "source": [
    "max(interactions.iloc[4]['prediction_svd'])"
   ]
  },
  {
   "cell_type": "markdown",
   "id": "cL1hyCWcau4B",
   "metadata": {
    "id": "cL1hyCWcau4B"
   },
   "source": [
    "## Quiz\n",
    "\n",
    "Посчитайте значение метрики MAP@10 для SVD-подхода.\n",
    "\n",
    "Ответ округлите до тысячных."
   ]
  },
  {
   "cell_type": "code",
   "execution_count": 60,
   "id": "p76wSzURTwvD",
   "metadata": {
    "id": "p76wSzURTwvD"
   },
   "outputs": [
    {
     "data": {
      "text/plain": [
       "0.022652757078986587"
      ]
     },
     "execution_count": 60,
     "metadata": {},
     "output_type": "execute_result"
    }
   ],
   "source": [
    "calc_precision('prediction_svd')"
   ]
  }
 ],
 "metadata": {
  "colab": {
   "provenance": []
  },
  "kernelspec": {
   "display_name": "Python 3 (ipykernel)",
   "language": "python",
   "name": "python3"
  },
  "language_info": {
   "codemirror_mode": {
    "name": "ipython",
    "version": 3
   },
   "file_extension": ".py",
   "mimetype": "text/x-python",
   "name": "python",
   "nbconvert_exporter": "python",
   "pygments_lexer": "ipython3",
   "version": "3.10.9"
  }
 },
 "nbformat": 4,
 "nbformat_minor": 5
}
